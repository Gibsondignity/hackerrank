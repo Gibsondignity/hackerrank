{
 "cells": [
  {
   "cell_type": "code",
   "execution_count": 1,
   "metadata": {},
   "outputs": [
    {
     "name": "stdout",
     "output_type": "stream",
     "text": [
      "Hello, World\n"
     ]
    }
   ],
   "source": [
    "print(\"Hello, World\")"
   ]
  },
  {
   "cell_type": "code",
   "execution_count": 2,
   "metadata": {},
   "outputs": [
    {
     "name": "stdout",
     "output_type": "stream",
     "text": [
      "4\n"
     ]
    }
   ],
   "source": [
    "# Algorithm to find the longest common subsequence of two strings\n",
    "\n",
    "def lcs(s1, s2):\n",
    "    m = len(s1)\n",
    "    n = len(s2)\n",
    "    L = [[None]*(n+1) for i in range(m+1)]\n",
    "    for i in range(m+1):\n",
    "        for j in range(n+1):\n",
    "            if i == 0 or j == 0:\n",
    "                L[i][j] = 0\n",
    "            elif s1[i-1] == s2[j-1]:\n",
    "                L[i][j] = L[i-1][j-1] + 1\n",
    "            else:\n",
    "                L[i][j] = max(L[i-1][j], L[i][j-1])\n",
    "    return L[m][n]\n",
    "\n",
    "\n",
    "s1 = \"AGGTAB\"\n",
    "s2 = \"GXTXAYB\"\n",
    "\n",
    "print(lcs(s1, s2))\n"
   ]
  },
  {
   "cell_type": "code",
   "execution_count": 36,
   "metadata": {},
   "outputs": [
    {
     "data": {
      "text/plain": [
       "[1, 5]"
      ]
     },
     "execution_count": 36,
     "metadata": {},
     "output_type": "execute_result"
    }
   ],
   "source": [
    "           \n",
    "def findTheIndices(a, target):\n",
    "    # Write your code here\n",
    "    for i in range(len(a)):\n",
    "        for j in range(i, len(a)):\n",
    "            if a[i] + a[j] == target:\n",
    "                return [a[i], a[j]]\n",
    "        else:\n",
    "            return [-1, -1]\n",
    "            \n",
    "findTheIndices([1, 2, 3, 4, 5, 6, 7, 8, 9, 10], 6)"
   ]
  },
  {
   "cell_type": "code",
   "execution_count": 1,
   "metadata": {},
   "outputs": [
    {
     "name": "stdout",
     "output_type": "stream",
     "text": [
      "3\n"
     ]
    }
   ],
   "source": [
    "def sockMerchant(n, ar):\n",
    "    # Write your code here\n",
    "    numCounter = {}\n",
    "    totalSocks = 0\n",
    "    \n",
    "    for i in range(n):\n",
    "        if ar[i] not in numCounter:\n",
    "            numCounter[ar[i]] = 1\n",
    "        else:\n",
    "            numCounter[ar[i]]+=1\n",
    "            \n",
    "    for i in numCounter.values():\n",
    "        totalSocks += i//2\n",
    "        \n",
    "    \n",
    "        \n",
    "    return totalSocks\n",
    "            \n",
    "ar = [10, 20, 20, 10, 10, 30, 50, 10, 20]\n",
    "print(sockMerchant(len(ar), ar))"
   ]
  },
  {
   "cell_type": "code",
   "execution_count": null,
   "metadata": {},
   "outputs": [],
   "source": [
    "import xlsxwriter\n",
    "\n",
    "# create file (workbook) and worksheet\n",
    "outWorkbook = xlsxwriter.Workbook(\"filename.xlsx\")\n",
    "outSheet = outWorkbook.add_worksheet()\n",
    "\n",
    "# declare data\n",
    "outSheet.write('D4', 'Password')\n",
    "\n",
    "# write data to file\n",
    "for passwrd in range(len(outSheet)):\n",
    "    outSheet.write(passwrd+1, 0, )\n",
    "\n",
    "\n"
   ]
  },
  {
   "cell_type": "code",
   "execution_count": null,
   "metadata": {},
   "outputs": [],
   "source": [
    "import random\n",
    "import string\n",
    "\n",
    "def get_random_string(length):\n",
    "    # choose from all lowercase letter\n",
    "    letters = string.ascii_letters\n",
    "    result_str = ''.join(random.choice(letters) for i in range(length))\n",
    "    \n",
    "    return result_str\n",
    "\n",
    "for i in range(10):\n",
    "    print(get_random_string(8))"
   ]
  },
  {
   "cell_type": "code",
   "execution_count": null,
   "metadata": {},
   "outputs": [],
   "source": [
    "import csv\n",
    "\n",
    "with open('names.csv', 'r') as file_name:\n",
    "    csv_reader = csv.reader(file_name)\n",
    "    \n",
    "    with open('names_new.csv', 'w') as file_name_new:\n",
    "        csv_writer = csv.writer(file_name_new)\n",
    "    \n",
    "        for line in csv_reader:\n",
    "            print(line)"
   ]
  },
  {
   "cell_type": "code",
   "execution_count": 24,
   "metadata": {},
   "outputs": [],
   "source": [
    "import csv\n",
    "import random\n",
    "import string\n",
    "from csv import DictWriter\n",
    "\n",
    "\n",
    "def get_random_string(length):\n",
    "    # choose from all lowercase letter\n",
    "    letters = string.ascii_letters\n",
    "    result_str = ''.join(random.choice(letters) for i in range(length))\n",
    "    \n",
    "    return result_str\n",
    "\n",
    "\n",
    "\n",
    "\n",
    "\n",
    "with open('names.csv', 'r') as csv_file:\n",
    "    csv_reader = csv.DictReader(csv_file)\n",
    "    \n",
    "    with open('names_new.csv', 'w') as file_name_new:\n",
    "    \n",
    "        fieldnames = ['first_name', 'last_name', 'email', 'password']\n",
    "        \n",
    "        csv_writer = csv.DictWriter(file_name_new, fieldnames=fieldnames)\n",
    "        \n",
    "        csv_writer.writeheader()\n",
    "        \n",
    "        for line in csv_reader:\n",
    "            line['password'] = get_random_string(8)\n",
    "            csv_writer.writerow(line)\n",
    "            \n",
    "        csv_file.close()\n",
    "            \n",
    "            \n",
    "\n",
    "       \n",
    "        "
   ]
  },
  {
   "cell_type": "code",
   "execution_count": 6,
   "metadata": {},
   "outputs": [
    {
     "name": "stdout",
     "output_type": "stream",
     "text": [
      "17\n"
     ]
    }
   ],
   "source": [
    "from operator import le\n",
    "\n",
    "\n",
    "def diagonalDifference(arr):\n",
    "    # function here\n",
    "    \n",
    "    left_diagonal = 0\n",
    "    right_diagonal = 0\n",
    "    \n",
    "    for i in range(0, len(arr)):\n",
    "        left_diagonal += arr[i][i]\n",
    "        \n",
    "    for j in range(0, len(arr)):\n",
    "        right_diagonal += arr[j][len(arr)-1-j]\n",
    "        \n",
    "    return abs(left_diagonal - right_diagonal)\n",
    "\n",
    "result = diagonalDifference([[1, 4, 5], [2, 3, 2], [6, 3, -7]])\n",
    "print(result)\n",
    "    "
   ]
  },
  {
   "cell_type": "code",
   "execution_count": 7,
   "metadata": {},
   "outputs": [
    {
     "name": "stdout",
     "output_type": "stream",
     "text": [
      "    #\n",
      "   ##\n",
      "  ###\n",
      " ####\n",
      "#####\n"
     ]
    }
   ],
   "source": [
    "def staircase(n):\n",
    "    for i in range(1, n+1):\n",
    "        print(\" \"*(n-i) + \"#\"*i)\n",
    "        \n",
    "staircase(5)"
   ]
  },
  {
   "cell_type": "code",
   "execution_count": null,
   "metadata": {},
   "outputs": [],
   "source": []
  }
 ],
 "metadata": {
  "kernelspec": {
   "display_name": "Python 3.9.7 64-bit",
   "language": "python",
   "name": "python3"
  },
  "language_info": {
   "codemirror_mode": {
    "name": "ipython",
    "version": 3
   },
   "file_extension": ".py",
   "mimetype": "text/x-python",
   "name": "python",
   "nbconvert_exporter": "python",
   "pygments_lexer": "ipython3",
   "version": "3.9.7"
  },
  "orig_nbformat": 4,
  "vscode": {
   "interpreter": {
    "hash": "82ed002fa2d4956f5c6aec99bcefe0f73a9f79882f3c9e2319b14958a5896ac5"
   }
  }
 },
 "nbformat": 4,
 "nbformat_minor": 2
}
